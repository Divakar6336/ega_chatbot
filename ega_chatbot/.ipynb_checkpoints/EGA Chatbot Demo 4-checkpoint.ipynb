{
 "cells": [
  {
   "cell_type": "markdown",
   "metadata": {},
   "source": [
    "### Train nlu model\n",
    "!python -m rasa_nlu.train -c nlu_config.yml --data data/nlu.md -o models --fixed_model_name nlu --project current --verbose\n",
    "\n",
    "### Train dialogue model\n",
    "!python -m rasa_core.train -d domain.yml -s data/stories.md -o models/dialogue"
   ]
  },
  {
   "cell_type": "code",
   "execution_count": null,
   "metadata": {},
   "outputs": [],
   "source": [
    "python -m rasa_core.train -d domain.yml -s stories.md -o models/dialogue --epochs 200"
   ]
  },
  {
   "cell_type": "code",
   "execution_count": 15,
   "metadata": {},
   "outputs": [
    {
     "data": {
      "text/html": [
       "<div class=\"chat-window\"> <p>Hi! you can chat in this window. Type 'stop' to end the conversation.</p><p>hi</p><p>Hello XYZ! How can I help you today ?</p><p>what is the eta of order</p><p>Please share your order number?</p><p>876</p><p>32423432</p><p>What is the order number?</p><p>43243</p><p>fdf</p><p>d13423</p><p>ts</p><p>est</p><p>ets</p><p>What is the order number?</p><p>4343</p><p>shipment</p><p>Please share your order number?</p><p>shipmwnt in transit</p><p>http://dubal5136v/PortalWS/PortalCPWS.asmx?op=Bot_Shipments_in_Transit</p></div>"
      ],
      "text/plain": [
       "<IPython.core.display.HTML object>"
      ]
     },
     "metadata": {},
     "output_type": "display_data"
    },
    {
     "name": "stdout",
     "output_type": "stream",
     "text": [
      "stop\n"
     ]
    }
   ],
   "source": [
    "import IPython\n",
    "from IPython.display import clear_output, HTML, display\n",
    "from rasa_core.agent import Agent\n",
    "from rasa_core.interpreter import RasaNLUInterpreter\n",
    "import time\n",
    "\n",
    "interpreter = RasaNLUInterpreter('models/nlu/default/chat')\n",
    "messages = [\"Hi! you can chat in this window. Type 'stop' to end the conversation.\"]\n",
    "agent = Agent.load('models/dialogue', interpreter=interpreter)\n",
    "\n",
    "def chatlogs_html(messages):\n",
    "    messages_html = \"\"\n",
    "    for m in messages:\n",
    "        if m.endswith('.jpg'):\n",
    "             messages_html += \"<img src={}, alt='Tiger pub'></img>\".format(m)\n",
    "        else:\n",
    "             messages_html += \"<p>{}</p>\".format(m)\n",
    "    chatbot_html = \"\"\"<div class=\"chat-window\"> {}</div>\"\"\".format(messages_html)\n",
    "    return chatbot_html\n",
    "\n",
    "\n",
    "while True:\n",
    "    clear_output()\n",
    "    display(HTML(chatlogs_html(messages)))\n",
    "    time.sleep(0.3)\n",
    "    a = input()\n",
    "    messages.append(a)\n",
    "    if a == 'stop':\n",
    "        break\n",
    "    responses = agent.handle_message(a)\n",
    "    for r in responses:\n",
    "        display(r.keys())\n",
    "        key = 'image' if 'image' in r.keys() else 'text'\n",
    "        messages.append(r.get(key))                    "
   ]
  },
  {
   "cell_type": "markdown",
   "metadata": {},
   "source": [
    "## Indetify intent"
   ]
  },
  {
   "cell_type": "code",
   "execution_count": 2,
   "metadata": {},
   "outputs": [
    {
     "name": "stdout",
     "output_type": "stream",
     "text": [
      "INFO:tensorflow:Restoring parameters from models/nlu/default/chat\\intent_classifier_tensorflow_embedding.ckpt\n"
     ]
    }
   ],
   "source": [
    "from rasa_core.agent import Agent\n",
    "from rasa_core.interpreter import RasaNLUInterpreter\n",
    "# Loading the Agent\n",
    "rasaNLU = RasaNLUInterpreter(\"models/nlu/default/chat\")\n",
    "agent = Agent.load(\"models/dialogue\", interpreter= rasaNLU)"
   ]
  },
  {
   "cell_type": "code",
   "execution_count": 9,
   "metadata": {},
   "outputs": [
    {
     "data": {
      "text/plain": [
       "{'name': 'order_status_eta', 'confidence': 0.8397842645645142}"
      ]
     },
     "execution_count": 9,
     "metadata": {},
     "output_type": "execute_result"
    }
   ],
   "source": [
    "intent=rasaNLU.parse('what is the ETA of order id 12345?')\n",
    "intent['intent']"
   ]
  },
  {
   "cell_type": "code",
   "execution_count": 10,
   "metadata": {},
   "outputs": [
    {
     "data": {
      "text/plain": [
       "'order_number'"
      ]
     },
     "execution_count": 10,
     "metadata": {},
     "output_type": "execute_result"
    }
   ],
   "source": [
    "intent['entities'][0]['entity']"
   ]
  },
  {
   "cell_type": "code",
   "execution_count": null,
   "metadata": {},
   "outputs": [],
   "source": [
    "agent.handle_text('i want to order pizza')"
   ]
  },
  {
   "cell_type": "markdown",
   "metadata": {},
   "source": [
    "## Visualize the stories"
   ]
  },
  {
   "cell_type": "code",
   "execution_count": 4,
   "metadata": {},
   "outputs": [
    {
     "name": "stderr",
     "output_type": "stream",
     "text": [
      "Processed Story Blocks: 100%|███| 16/16 [00:00<00:00, 420.97it/s, # trackers=1]\n"
     ]
    }
   ],
   "source": [
    "from __future__ import absolute_import\n",
    "from __future__ import division\n",
    "from __future__ import print_function\n",
    "from __future__ import unicode_literals\n",
    "\n",
    "from rasa_core.agent import Agent\n",
    "from rasa_core.policies.keras_policy import KerasPolicy\n",
    "from rasa_core.policies.memoization import MemoizationPolicy\n",
    "\n",
    "if __name__ == '__main__':\n",
    "    agent = Agent(\"domain.yml\",\n",
    "                  policies=[MemoizationPolicy(), KerasPolicy()])\n",
    "\n",
    "    agent.visualize(\"data/stories.md\",\n",
    "                    output_file=\"graph.png\", max_history=2)"
   ]
  },
  {
   "cell_type": "markdown",
   "metadata": {},
   "source": [
    "## Chatbot 2"
   ]
  },
  {
   "cell_type": "code",
   "execution_count": 1,
   "metadata": {},
   "outputs": [],
   "source": [
    "from rasa_nlu.training_data import load_data\n",
    "from rasa_nlu.config import RasaNLUModelConfig\n",
    "from rasa_nlu.model import Trainer\n",
    "from rasa_nlu import config\n",
    "from rasa_nlu.model import Metadata, Interpreter\n",
    "import os\n",
    "\n",
    "\n",
    "def train_nlu (data, config_file, model_dir):\n",
    "    # Load training nlu data\n",
    "    training_data = load_data(data)\n",
    "    # Load config file and create trainer object\n",
    "    trainer = Trainer(config.load(config_file))\n",
    "    # train the nlu model\n",
    "    trainer.train(training_data)\n",
    "    model_directory = trainer.persist(model_dir, fixed_model_name = 'chat')\n",
    "\n",
    "\n",
    "def get_intent_confidence(text):\n",
    "    # loading the interpreter \n",
    "    interpreter = Interpreter.load('/models/nlu/default/chat')\n",
    "    # Predict intent\n",
    "    intent=interpreter.parse(text)\n",
    "    # Print the predicted intent dictionary with confidence\n",
    "    return intent['intent']\n",
    "\n",
    "\n",
    "def train_dialogue(path=\"python -m rasa_core.train -d domain.yml -s data/stories.md -o models/dialogue\"):\n",
    "    x=os.system(path)\n",
    "    if x==0:\n",
    "    \tprint(\"Model Trained Successfully\")\n",
    "    else:\n",
    "    \tprint(\"Error, Please chcek the issue\")"
   ]
  },
  {
   "cell_type": "code",
   "execution_count": 2,
   "metadata": {},
   "outputs": [
    {
     "name": "stderr",
     "output_type": "stream",
     "text": [
      "Epochs: 100%|█████████| 300/300 [00:04<00:00, 68.82it/s, loss=0.159, acc=1.000]\n"
     ]
    },
    {
     "name": "stdout",
     "output_type": "stream",
     "text": [
      "Model Trained Successfully\n"
     ]
    }
   ],
   "source": [
    "# Calling NLU training tunction\n",
    "train_nlu('data/nlu.md', 'nlu_config.yml', 'models/nlu')\n",
    "\n",
    "# Calling dialogue training function\n",
    "train_dialogue()"
   ]
  },
  {
   "cell_type": "code",
   "execution_count": 22,
   "metadata": {},
   "outputs": [],
   "source": [
    "from rasa_nlu.evaluate import run_evaluation\n",
    "test_file, model_directory=\"data/nlu.md\", \"models/nlu/default/chat/\"\n",
    "def evaluate_nlu_model(test_file,model_directory):\n",
    "    run_evaluation(test_file, model_directory)"
   ]
  },
  {
   "cell_type": "code",
   "execution_count": 23,
   "metadata": {},
   "outputs": [
    {
     "name": "stdout",
     "output_type": "stream",
     "text": [
      "INFO:tensorflow:Restoring parameters from models/nlu/default/chat/intent_classifier_tensorflow_embedding.ckpt\n"
     ]
    }
   ],
   "source": [
    "evaluate_nlu_model(test_file, model_directory)"
   ]
  },
  {
   "cell_type": "code",
   "execution_count": 11,
   "metadata": {},
   "outputs": [
    {
     "name": "stdout",
     "output_type": "stream",
     "text": [
      "INFO:tensorflow:Restoring parameters from models/nlu/default/chat\\intent_classifier_tensorflow_embedding.ckpt\n"
     ]
    }
   ],
   "source": [
    "from rasa_core.agent import Agent\n",
    "from rasa_core.interpreter import RasaNLUInterpreter\n",
    "# Loading the Agent\n",
    "rasaNLU = RasaNLUInterpreter(\"models/nlu/default/chat\")\n",
    "agent = Agent.load(\"models/dialogue\", interpreter= rasaNLU)"
   ]
  },
  {
   "cell_type": "code",
   "execution_count": 24,
   "metadata": {},
   "outputs": [
    {
     "data": {
      "text/plain": [
       "{'name': 'order_status_eta', 'confidence': 0.9054824113845825}"
      ]
     },
     "execution_count": 24,
     "metadata": {},
     "output_type": "execute_result"
    }
   ],
   "source": [
    "intent=rasaNLU.parse('ETA of order no 12345?')\n",
    "intent['intent']"
   ]
  },
  {
   "cell_type": "code",
   "execution_count": 25,
   "metadata": {},
   "outputs": [
    {
     "data": {
      "text/plain": [
       "('order_number', '12345')"
      ]
     },
     "execution_count": 25,
     "metadata": {},
     "output_type": "execute_result"
    }
   ],
   "source": [
    "intent['entities'][0]['entity'],intent['entities'][0]['value']"
   ]
  },
  {
   "cell_type": "code",
   "execution_count": null,
   "metadata": {},
   "outputs": [],
   "source": [
    "import IPython\n",
    "from IPython.display import clear_output, HTML, display\n",
    "from rasa_core.agent import Agent\n",
    "import time\n",
    "\n",
    "from rasa_core.agent import Agent\n",
    "from rasa_core.interpreter import RasaNLUInterpreter\n",
    "from rasa_core.utils import EndpointConfig\n",
    "\n",
    "core_endpoint_config = EndpointConfig(url=\"http://localhost:5055/webhook\")\n",
    "\n",
    "interpreter = RasaNLUInterpreter('models/nlu/default/chat')\n",
    "messages = [\"Hi! you can chat in this window. Type 'stop' to end the conversation.\"]\n",
    "agent = Agent.load('models/dialogue', interpreter=interpreter, action_endpoint = core_endpoint_config)\n",
    "\n",
    "def chatlogs_html(messages):\n",
    "    messages_html = \"\"\n",
    "    for m in messages:\n",
    "        if m.endswith('.jpg'):\n",
    "             messages_html += \"<img src={}, alt='Tiger pub'></img>\".format(m)\n",
    "        else:\n",
    "             messages_html += \"<p>{}</p>\".format(m)\n",
    "    chatbot_html = \"\"\"<div class=\"chat-window\"> {}</div>\"\"\".format(messages_html)\n",
    "    return chatbot_html\n",
    "\n",
    "\n",
    "while True:\n",
    "    clear_output()\n",
    "    display(HTML(chatlogs_html(messages)))\n",
    "    time.sleep(0.3)\n",
    "    a = input()\n",
    "    messages.append(a)\n",
    "    if a == 'stop':\n",
    "        break\n",
    "    responses = agent.handle_message(a)\n",
    "    for r in responses:\n",
    "        display(r.keys())\n",
    "        key = 'image' if 'image' in r.keys() else 'text'\n",
    "        messages.append(r.get(key))                    "
   ]
  },
  {
   "cell_type": "code",
   "execution_count": null,
   "metadata": {},
   "outputs": [],
   "source": [
    "What is the status of my order number"
   ]
  },
  {
   "cell_type": "markdown",
   "metadata": {},
   "source": [
    "### API Call"
   ]
  },
  {
   "cell_type": "code",
   "execution_count": 2,
   "metadata": {},
   "outputs": [
    {
     "name": "stdout",
     "output_type": "stream",
     "text": [
      "{'error_message': 'You must use an API key to authenticate each request to Google Maps Platform APIs. For additional information, please refer to http://g.co/dev/maps-no-account', 'results': [], 'status': 'REQUEST_DENIED'}\n"
     ]
    },
    {
     "ename": "IndexError",
     "evalue": "list index out of range",
     "output_type": "error",
     "traceback": [
      "\u001b[1;31m---------------------------------------------------------------------------\u001b[0m",
      "\u001b[1;31mIndexError\u001b[0m                                Traceback (most recent call last)",
      "\u001b[1;32m<ipython-input-2-e9201203eee5>\u001b[0m in \u001b[0;36m<module>\u001b[1;34m\u001b[0m\n\u001b[0;32m     22\u001b[0m \u001b[1;31m# extracting latitude, longitude and formatted address\u001b[0m\u001b[1;33m\u001b[0m\u001b[1;33m\u001b[0m\u001b[1;33m\u001b[0m\u001b[0m\n\u001b[0;32m     23\u001b[0m \u001b[1;31m# of the first matching location\u001b[0m\u001b[1;33m\u001b[0m\u001b[1;33m\u001b[0m\u001b[1;33m\u001b[0m\u001b[0m\n\u001b[1;32m---> 24\u001b[1;33m \u001b[0mlatitude\u001b[0m \u001b[1;33m=\u001b[0m \u001b[0mdata\u001b[0m\u001b[1;33m[\u001b[0m\u001b[1;34m'results'\u001b[0m\u001b[1;33m]\u001b[0m\u001b[1;33m[\u001b[0m\u001b[1;36m0\u001b[0m\u001b[1;33m]\u001b[0m\u001b[1;33m[\u001b[0m\u001b[1;34m'geometry'\u001b[0m\u001b[1;33m]\u001b[0m\u001b[1;33m[\u001b[0m\u001b[1;34m'location'\u001b[0m\u001b[1;33m]\u001b[0m\u001b[1;33m[\u001b[0m\u001b[1;34m'lat'\u001b[0m\u001b[1;33m]\u001b[0m\u001b[1;33m\u001b[0m\u001b[1;33m\u001b[0m\u001b[0m\n\u001b[0m\u001b[0;32m     25\u001b[0m \u001b[0mlongitude\u001b[0m \u001b[1;33m=\u001b[0m \u001b[0mdata\u001b[0m\u001b[1;33m[\u001b[0m\u001b[1;34m'results'\u001b[0m\u001b[1;33m]\u001b[0m\u001b[1;33m[\u001b[0m\u001b[1;36m0\u001b[0m\u001b[1;33m]\u001b[0m\u001b[1;33m[\u001b[0m\u001b[1;34m'geometry'\u001b[0m\u001b[1;33m]\u001b[0m\u001b[1;33m[\u001b[0m\u001b[1;34m'location'\u001b[0m\u001b[1;33m]\u001b[0m\u001b[1;33m[\u001b[0m\u001b[1;34m'lng'\u001b[0m\u001b[1;33m]\u001b[0m\u001b[1;33m\u001b[0m\u001b[1;33m\u001b[0m\u001b[0m\n\u001b[0;32m     26\u001b[0m \u001b[0mformatted_address\u001b[0m \u001b[1;33m=\u001b[0m \u001b[0mdata\u001b[0m\u001b[1;33m[\u001b[0m\u001b[1;34m'results'\u001b[0m\u001b[1;33m]\u001b[0m\u001b[1;33m[\u001b[0m\u001b[1;36m0\u001b[0m\u001b[1;33m]\u001b[0m\u001b[1;33m[\u001b[0m\u001b[1;34m'formatted_address'\u001b[0m\u001b[1;33m]\u001b[0m\u001b[1;33m\u001b[0m\u001b[1;33m\u001b[0m\u001b[0m\n",
      "\u001b[1;31mIndexError\u001b[0m: list index out of range"
     ]
    }
   ],
   "source": [
    "# importing the requests library \n",
    "import requests \n",
    "  \n",
    "# api-endpoint \n",
    "URL = \"http://maps.googleapis.com/maps/api/geocode/json\"\n",
    "  \n",
    "# location given here \n",
    "location = \"delhi technological university\"\n",
    "  \n",
    "# defining a params dict for the parameters to be sent to the API \n",
    "PARAMS = {'address':location} \n",
    "  \n",
    "# sending get request and saving the response as response object \n",
    "r = requests.get(url = URL, params = PARAMS) \n",
    "  \n",
    "# extracting data in json format \n",
    "data = r.json() \n",
    "\n",
    "print(data)\n",
    "  \n",
    "  \n",
    "# extracting latitude, longitude and formatted address  \n",
    "# of the first matching location \n",
    "latitude = data['results'][0]['geometry']['location']['lat'] \n",
    "longitude = data['results'][0]['geometry']['location']['lng'] \n",
    "formatted_address = data['results'][0]['formatted_address'] \n",
    "  \n",
    "# printing the output \n",
    "print(\"Latitude:%s\\nLongitude:%s\\nFormatted Address:%s\"\n",
    "      %(latitude, longitude,formatted_address)) "
   ]
  },
  {
   "cell_type": "code",
   "execution_count": 19,
   "metadata": {},
   "outputs": [],
   "source": [
    "import requests\n",
    "req = requests.get('https://github.com/timeline.json')"
   ]
  },
  {
   "cell_type": "code",
   "execution_count": 30,
   "metadata": {},
   "outputs": [],
   "source": [
    "import json\n",
    "req_dict = json.loads(req.text)"
   ]
  },
  {
   "cell_type": "code",
   "execution_count": 31,
   "metadata": {},
   "outputs": [
    {
     "data": {
      "text/plain": [
       "'Hello there, wayfaring stranger. If you’re reading this then you probably didn’t see our blog post a couple of years back announcing that this API would go away: http://git.io/17AROg Fear not, you should be able to get what you need from the shiny new Events API instead.'"
      ]
     },
     "execution_count": 31,
     "metadata": {},
     "output_type": "execute_result"
    }
   ],
   "source": [
    "req_dict['message']"
   ]
  },
  {
   "cell_type": "code",
   "execution_count": 8,
   "metadata": {},
   "outputs": [],
   "source": [
    "import requests\n",
    "req = requests.get('https://www.edureka.co/')"
   ]
  },
  {
   "cell_type": "code",
   "execution_count": 10,
   "metadata": {},
   "outputs": [
    {
     "data": {
      "text/plain": [
       "'UTF-8'"
      ]
     },
     "execution_count": 10,
     "metadata": {},
     "output_type": "execute_result"
    }
   ],
   "source": [
    "req.encoding # returns 'utf-8'"
   ]
  },
  {
   "cell_type": "code",
   "execution_count": 11,
   "metadata": {},
   "outputs": [
    {
     "data": {
      "text/plain": [
       "200"
      ]
     },
     "execution_count": 11,
     "metadata": {},
     "output_type": "execute_result"
    }
   ],
   "source": [
    "req.status_code # returns 200"
   ]
  },
  {
   "cell_type": "code",
   "execution_count": 12,
   "metadata": {},
   "outputs": [
    {
     "data": {
      "text/plain": [
       "<RequestsCookieJar[Cookie(version=0, name='brain4ce_n', value='vdk5cbnqaj6coqc2jq3gckmk70', port=None, port_specified=False, domain='.edureka.co', domain_specified=True, domain_initial_dot=False, path='/', path_specified=True, secure=False, expires=1560820980, discard=False, comment=None, comment_url=None, rest={'HttpOnly': None}, rfc2109=False), Cookie(version=0, name='CakeCookie[Visited]', value='%7B%22date%22%3A%222019-05-07+14%3A53%3A00%22%2C%22count%22%3A1%7D', port=None, port_specified=False, domain='www.edureka.co', domain_specified=False, domain_initial_dot=False, path='/', path_specified=True, secure=False, expires=1588843380, discard=False, comment=None, comment_url=None, rest={}, rfc2109=False), Cookie(version=0, name='CakeCookie[currencyprefrence]', value='INR', port=None, port_specified=False, domain='www.edureka.co', domain_specified=False, domain_initial_dot=False, path='/', path_specified=True, secure=False, expires=1559294580, discard=False, comment=None, comment_url=None, rest={}, rfc2109=False), Cookie(version=0, name='CakeCookie[landingpage]', value='getcoursedata', port=None, port_specified=False, domain='www.edureka.co', domain_specified=False, domain_initial_dot=False, path='/', path_specified=True, secure=False, expires=2314084980, discard=False, comment=None, comment_url=None, rest={}, rfc2109=False), Cookie(version=0, name='CakeCookie[preference_country]', value='12', port=None, port_specified=False, domain='www.edureka.co', domain_specified=False, domain_initial_dot=False, path='/', path_specified=True, secure=False, expires=1559294580, discard=False, comment=None, comment_url=None, rest={}, rfc2109=False), Cookie(version=0, name='CakeCookie[timezoneprefrence]', value='Asia%2FKolkata', port=None, port_specified=False, domain='www.edureka.co', domain_specified=False, domain_initial_dot=False, path='/', path_specified=True, secure=False, expires=1559294580, discard=False, comment=None, comment_url=None, rest={}, rfc2109=False), Cookie(version=0, name='_utm_wb_term', value='http%3A%2F%2Fwww.edureka.co%2F', port=None, port_specified=False, domain='www.edureka.co', domain_specified=False, domain_initial_dot=False, path='/', path_specified=True, secure=False, expires=1557224580, discard=False, comment=None, comment_url=None, rest={}, rfc2109=False), Cookie(version=0, name='f_l_i_s_p', value='http%3A%2F%2Fwww.edureka.co%2F', port=None, port_specified=False, domain='www.edureka.co', domain_specified=False, domain_initial_dot=False, path='/', path_specified=True, secure=False, expires=None, discard=True, comment=None, comment_url=None, rest={}, rfc2109=False), Cookie(version=0, name='wb_current', value='https%3A%2F%2Fwww.edureka.co%2F', port=None, port_specified=False, domain='www.edureka.co', domain_specified=False, domain_initial_dot=False, path='/', path_specified=True, secure=False, expires=1557224580, discard=False, comment=None, comment_url=None, rest={}, rfc2109=False), Cookie(version=0, name='wb_landing', value='https%3A%2F%2Fwww.edureka.co%2F', port=None, port_specified=False, domain='www.edureka.co', domain_specified=False, domain_initial_dot=False, path='/', path_specified=True, secure=False, expires=1557224580, discard=False, comment=None, comment_url=None, rest={}, rfc2109=False)]>"
      ]
     },
     "execution_count": 12,
     "metadata": {},
     "output_type": "execute_result"
    }
   ],
   "source": [
    "req.cookies"
   ]
  },
  {
   "cell_type": "code",
   "execution_count": 13,
   "metadata": {},
   "outputs": [
    {
     "data": {
      "text/plain": [
       "{'Content-Type': 'text/html; charset=UTF-8', 'Transfer-Encoding': 'chunked', 'Connection': 'keep-alive', 'Date': 'Tue, 07 May 2019 09:23:00 GMT', 'Server': 'Apache/2.4.27 (Ubuntu)', 'X-Powered-By': 'PHP/5.5.9-1ubuntu4.22', 'Set-Cookie': 'f_l_i_s_p=http%3A%2F%2Fwww.edureka.co%2F; path=/, brain4ce_n=vdk5cbnqaj6coqc2jq3gckmk70; expires=Tue, 18-Jun-2019 01:23:00 GMT; Max-Age=3600000; path=/; domain=edureka.co; HttpOnly, _utm_wb_term=http%3A%2F%2Fwww.edureka.co%2F; expires=Tue, 07-May-2019 10:23:00 GMT; Max-Age=3600; path=/, wb_current=https%3A%2F%2Fwww.edureka.co%2F; expires=Tue, 07-May-2019 10:23:00 GMT; Max-Age=3600; path=/, wb_landing=https%3A%2F%2Fwww.edureka.co%2F; expires=Tue, 07-May-2019 10:23:00 GMT; Max-Age=3600; path=/, CakeCookie[autoLogin]=deleted; expires=Thu, 01-Jan-1970 00:00:01 GMT; Max-Age=0; path=/, CakeCookie[landingpage]=getcoursedata; expires=Fri, 01-May-2043 09:23:00 GMT; Max-Age=756864000; path=/, CakeCookie[preference_country]=12; expires=Fri, 31-May-2019 09:23:00 GMT; Max-Age=2073600; path=/, CakeCookie[timezoneprefrence]=Asia%2FKolkata; expires=Fri, 31-May-2019 09:23:00 GMT; Max-Age=2073600; path=/, CakeCookie[currencyprefrence]=INR; expires=Fri, 31-May-2019 09:23:00 GMT; Max-Age=2073600; path=/, CakeCookie[Visited]=%7B%22date%22%3A%222019-05-07+14%3A53%3A00%22%2C%22count%22%3A1%7D; expires=Thu, 07-May-2020 09:23:00 GMT; Max-Age=31622400; path=/', 'Vary': 'Accept-Encoding', 'Content-Encoding': 'gzip', 'Access-Control-Allow-Credentials': 'true', 'Access-Control-Allow-Headers': 'api-timezone, auth-bearer, auth-id', 'X-Cache': 'Miss from cloudfront', 'Via': '1.1 11bda279a9e6aa2f34e957379f64a2ae.cloudfront.net (CloudFront)', 'X-Amz-Cf-Id': '_cFaWCaJ0ogF1f_n1gNjhJe7sNjvAAniN5H4mGXbFaDFr0Jr3yLiQQ=='}"
      ]
     },
     "execution_count": 13,
     "metadata": {},
     "output_type": "execute_result"
    }
   ],
   "source": [
    "req.headers"
   ]
  },
  {
   "cell_type": "code",
   "execution_count": 14,
   "metadata": {},
   "outputs": [
    {
     "data": {
      "text/plain": [
       "datetime.timedelta(0, 1, 357481)"
      ]
     },
     "execution_count": 14,
     "metadata": {},
     "output_type": "execute_result"
    }
   ],
   "source": [
    "req.elapsed # returns datetime.timedelta(0, 1, 666890)"
   ]
  },
  {
   "cell_type": "code",
   "execution_count": 17,
   "metadata": {},
   "outputs": [
    {
     "data": {
      "text/plain": [
       "'https://pixabay.com/images/search/forest/?min_height=600&amp;min_width=800&amp;order=popular'"
      ]
     },
     "execution_count": 17,
     "metadata": {},
     "output_type": "execute_result"
    }
   ],
   "source": [
    "import requests\n",
    " \n",
    "query = {'q': 'Forest', 'order': 'popular', 'min_width': '800', 'min_height': '600'}\n",
    "req = requests.get('https://pixabay.com/en/photos/', params=query)\n",
    " \n",
    "req.url"
   ]
  },
  {
   "cell_type": "code",
   "execution_count": null,
   "metadata": {},
   "outputs": [],
   "source": []
  }
 ],
 "metadata": {
  "kernelspec": {
   "display_name": "Python 3",
   "language": "python",
   "name": "python3"
  },
  "language_info": {
   "codemirror_mode": {
    "name": "ipython",
    "version": 3
   },
   "file_extension": ".py",
   "mimetype": "text/x-python",
   "name": "python",
   "nbconvert_exporter": "python",
   "pygments_lexer": "ipython3",
   "version": "3.6.9"
  },
  "toc": {
   "base_numbering": 1,
   "nav_menu": {},
   "number_sections": true,
   "sideBar": true,
   "skip_h1_title": false,
   "title_cell": "Table of Contents",
   "title_sidebar": "Contents",
   "toc_cell": false,
   "toc_position": {},
   "toc_section_display": true,
   "toc_window_display": false
  }
 },
 "nbformat": 4,
 "nbformat_minor": 2
}
